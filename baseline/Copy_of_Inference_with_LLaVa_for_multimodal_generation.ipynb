{
 "cells": [
  {
   "cell_type": "code",
   "execution_count": null,
   "metadata": {
    "id": "pb_YcZU80YIS"
   },
   "outputs": [],
   "source": [
    "######################## llava inference for video ##############################"
   ]
  },
  {
   "cell_type": "code",
   "execution_count": null,
   "metadata": {
    "id": "n6LhHJg9w5H6"
   },
   "outputs": [],
   "source": [
    "from google.colab import drive\n",
    "drive.mount('/content/drive')"
   ]
  },
  {
   "cell_type": "code",
   "execution_count": null,
   "metadata": {
    "id": "NgTXuc4ovJsr"
   },
   "outputs": [],
   "source": [
    "from transformers import pipeline\n",
    "import requests\n",
    "from PIL import Image\n",
    "pipe = pipeline(\"image-to-text\", model=model_id, model_kwargs={\"quantization_config\": quantization_config})\n",
    "max_new_tokens = 200"
   ]
  },
  {
   "cell_type": "code",
   "execution_count": null,
   "metadata": {
    "id": "1Z5IHGOnvVhU"
   },
   "outputs": [],
   "source": [
    "prompt = \"USER: <image>\\nThe bot is provided with a video image Bot has to provide a summary of the video, capturing wether its humour or not and what makes it humorous if it is. The summary should be clear and engaging\\nASSISTANT:\"\n"
   ]
  },
  {
   "cell_type": "code",
   "execution_count": null,
   "metadata": {
    "id": "s0P5JTjfvixd"
   },
   "outputs": [],
   "source": [
    "import pandas as pd\n",
    "from openpyxl import load_workbook\n",
    "from PIL import Image\n",
    "import os\n",
    "\n",
    "excel_path = ''\n",
    "image_folder = ''\n",
    "\n",
    "# Load the Excel file\n",
    "df = pd.read_excel(excel_path)\n",
    "\n",
    "# Ensure the 'llava' column exists\n",
    "if 'llava' not in df.columns:\n",
    "    df['llava'] = None\n",
    "\n",
    "# Iterate over each row in the dataframe\n",
    "for index, row in df.iterrows():\n",
    "    video_id = row['uid']\n",
    "    image_path = os.path.join(image_folder, f\"{video_id}.jpg\")\n",
    "\n",
    "    # Check if the image file exists\n",
    "    if os.path.exists(image_path):\n",
    "        # Open the image\n",
    "        image1 = Image.open(image_path)\n",
    "\n",
    "        # Process the image with your model\n",
    "        outputs = pipe(image1, prompt=prompt, generate_kwargs={\"max_new_tokens\": 200})\n",
    "\n",
    "        # Save the generated text to the 'llava' column\n",
    "        print(outputs[0][\"generated_text\"])\n",
    "        df.at[index, 'llava'] = outputs[0][\"generated_text\"]\n",
    "\n",
    "        # Save the updated dataframe to the Excel file after every iteration\n",
    "        with pd.ExcelWriter(excel_path, engine='openpyxl', mode='a', if_sheet_exists='overlay') as writer:\n",
    "            df.to_excel(writer, index=False, sheet_name='Sheet1')\n",
    "\n",
    "print(\"Process completed.\")"
   ]
  }
 ],
 "metadata": {
  "accelerator": "GPU",
  "colab": {
   "gpuType": "T4",
   "provenance": []
  },
  "kernelspec": {
   "display_name": "Python 3",
   "name": "python3"
  },
  "language_info": {
   "name": "python"
  }
 },
 "nbformat": 4,
 "nbformat_minor": 0
}
